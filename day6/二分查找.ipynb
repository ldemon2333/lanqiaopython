{
 "cells": [
  {
   "cell_type": "code",
   "execution_count": null,
   "metadata": {},
   "outputs": [],
   "source": [
    "def bound(true, l, r):      # last number makes true in [l, r)\n",
    "    if r - l == 0 or not true(l):\n",
    "        return -1           # no number makes true\n",
    "    \n",
    "    while r - l > 1:\n",
    "        m = (l + r) // 2\n",
    "\n",
    "        if true(m):\n",
    "            l = m\n",
    "        else:\n",
    "            r = m\n",
    "\n",
    "    return l"
   ]
  },
  {
   "cell_type": "code",
   "execution_count": null,
   "metadata": {},
   "outputs": [],
   "source": [
    "class MonotonicQueue:\n",
    "    from collections import deque\n",
    "\n",
    "    def __init__(self, type, sub=[]):\n",
    "        self.type = type == 'decrease'\n",
    "\n",
    "        self.queue = self.deque()\n",
    "\n",
    "        for i in sub:\n",
    "            self.push(i)\n",
    "\n",
    "    def head(self):\n",
    "        return self.queue[0]\n",
    "\n",
    "    def is_monotonic(self, x):\n",
    "        tail = self.queue[-1]\n",
    "\n",
    "        return tail >= x if self.type else tail <= x\n",
    "\n",
    "    def push(self, x):\n",
    "        while self.queue and not self.is_monotonic(x):\n",
    "            self.queue.pop()\n",
    "\n",
    "        self.queue.append(x)\n",
    "\n",
    "    def pop(self, value):\n",
    "        if self.head() == value:\n",
    "            self.queue.popleft()"
   ]
  },
  {
   "cell_type": "code",
   "execution_count": null,
   "metadata": {},
   "outputs": [],
   "source": [
    "class Pair:\n",
    "    def __init__(self):\n",
    "        self.max_queue = MonotonicQueue('decrease')\n",
    "        self.min_queue = MonotonicQueue('increase')\n",
    "\n",
    "    def push(self, x):\n",
    "        self.max_queue.push(x)\n",
    "        self.min_queue.push(x)\n",
    "\n",
    "    def pop(self, x):\n",
    "        self.max_queue.pop(x)\n",
    "        self.min_queue.pop(x)\n",
    "\n",
    "    def max(self):\n",
    "        return self.max_queue.head()\n",
    "\n",
    "    def min(self):\n",
    "        return self.min_queue.head()"
   ]
  },
  {
   "cell_type": "code",
   "execution_count": null,
   "metadata": {},
   "outputs": [],
   "source": [
    "class Window:\n",
    "    from collections import deque\n",
    "\n",
    "    def __init__(self, matrix, up, down):\n",
    "        self.matrix = matrix\n",
    "\n",
    "        self.up = up\n",
    "        self.down = down\n",
    "\n",
    "        self.width = down - up + 1\n",
    "        self.length = 0\n",
    "\n",
    "        self.queue_list = [Pair() for _ in range(self.width)]\n",
    "\n",
    "    def size(self):\n",
    "        return self.width * self.length\n",
    "\n",
    "    def push(self, k):\n",
    "        self.length += 1\n",
    "\n",
    "        for i in range(self.width):\n",
    "            j = i + self.up\n",
    "            self.queue_list[i].push(self.matrix[j][k])\n",
    "\n",
    "    def pop(self, k):\n",
    "        self.length -= 1\n",
    "\n",
    "        for i in range(self.width):\n",
    "            j = i + self.up\n",
    "            self.queue_list[i].pop(self.matrix[j][k])\n",
    "\n",
    "    def true(self, limit):\n",
    "        if self.length == 0:\n",
    "            return True\n",
    "            \n",
    "        max_list = [pair.max() for pair in self.queue_list]\n",
    "        min_list = [pair.min() for pair in self.queue_list]\n",
    "\n",
    "        return max(max_list) - min(min_list) <= limit"
   ]
  },
  {
   "cell_type": "code",
   "execution_count": null,
   "metadata": {},
   "outputs": [],
   "source": [
    "n, m = map(int, input().split())\n",
    "matrix = [[int(x) for x in input().split()] for _ in range(n)]\n",
    "limit = int(input())"
   ]
  },
  {
   "cell_type": "code",
   "execution_count": null,
   "metadata": {},
   "outputs": [],
   "source": [
    "n, m = map(int, input().split())\n",
    "matrix = [[int(x) for x in input().split()] for _ in range(n)]\n",
    "limit = int(input())\n",
    "\n",
    "M = 0\n",
    "for up in range(n):\n",
    "    for down in range(up, n):\n",
    "        window = Window()\n",
    "\n",
    "        for i in range(m):\n",
    "            window.push(i)\n",
    "            \n",
    "            while not window.true(limit):\n",
    "                window.pop(i - window.length + 1)\n",
    "\n",
    "            M = max(M, window.size())\n",
    "\n",
    "print(M)"
   ]
  },
  {
   "cell_type": "code",
   "execution_count": 5,
   "metadata": {},
   "outputs": [],
   "source": [
    "def bound(true, l, r):      # last number makes true in [l, r)\n",
    "    if r - l == 0 or not true(l):\n",
    "        return -1           # no number makes true\n",
    "    \n",
    "    while r - l > 1:\n",
    "        m = (l + r) // 2\n",
    "\n",
    "        if true(m):\n",
    "            l = m\n",
    "        else:\n",
    "            r = m\n",
    "\n",
    "    return l"
   ]
  },
  {
   "cell_type": "code",
   "execution_count": null,
   "metadata": {},
   "outputs": [],
   "source": [
    "def count(n):\n",
    "    cnt = 0\n",
    "\n",
    "    while n:\n",
    "        n //= 5\n",
    "\n",
    "        cnt += n\n",
    "\n",
    "    return cnt"
   ]
  },
  {
   "cell_type": "code",
   "execution_count": null,
   "metadata": {},
   "outputs": [],
   "source": [
    "k = int(input())\n",
    "\n",
    "n = bound(lambda i: count(i) < k, 1, int(1e19)) + 1\n",
    "\n",
    "print(n if count(n) == k else -1)"
   ]
  }
 ],
 "metadata": {
  "kernelspec": {
   "display_name": "base",
   "language": "python",
   "name": "python3"
  },
  "language_info": {
   "codemirror_mode": {
    "name": "ipython",
    "version": 3
   },
   "file_extension": ".py",
   "mimetype": "text/x-python",
   "name": "python",
   "nbconvert_exporter": "python",
   "pygments_lexer": "ipython3",
   "version": "3.9.12"
  },
  "orig_nbformat": 4,
  "vscode": {
   "interpreter": {
    "hash": "3a176caed2e623e3a36a87b094ae4f1cc68623d3a88a2d36a2ea84f7c5d7277a"
   }
  }
 },
 "nbformat": 4,
 "nbformat_minor": 2
}
