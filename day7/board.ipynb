{
 "cells": [
  {
   "cell_type": "code",
   "execution_count": null,
   "metadata": {},
   "outputs": [],
   "source": [
    "sum = [0]\n",
    "\n",
    "s = lambda l, r: sum[r] - sum[l - 1]"
   ]
  },
  {
   "cell_type": "code",
   "execution_count": 1,
   "metadata": {},
   "outputs": [],
   "source": [
    "index = [0]"
   ]
  },
  {
   "cell_type": "code",
   "execution_count": null,
   "metadata": {},
   "outputs": [],
   "source": [
    "def count(left, right, delt):\n",
    "    min, max = left, right\n",
    "    if min > max:\n",
    "        min, max = max, min\n",
    "\n",
    "    total = min + max\n",
    "\n",
    "    if delt < 0 or delt > total:\n",
    "        return 0\n",
    "\n",
    "    if delt <= min:\n",
    "        return delt + 1\n",
    "\n",
    "    if delt >= max:\n",
    "        return total - delt + 1\n",
    "\n",
    "    return min + 1"
   ]
  },
  {
   "cell_type": "code",
   "execution_count": null,
   "metadata": {},
   "outputs": [],
   "source": [
    "if __name__ == '__main__':\n",
    "    n = int(input())\n",
    "    a = [None] + [int(x) for x in input().split()]\n",
    "\n",
    "    for i in range(1, n + 1):\n",
    "        sum.append(sum[-1] + a[i])\n",
    "\n",
    "        if a[i] > 1:\n",
    "            index.append(i)\n",
    "    \n",
    "    index.append(n + 1)\n",
    "\n",
    "    up = len(index) - 1\n",
    "    ans = n\n",
    "\n",
    "    for i in range(1, up):\n",
    "        last_l = index[i - 1]\n",
    "        l = index[i]\n",
    "\n",
    "        p = a[l]\n",
    "\n",
    "        upper = min(up, i + 35)\n",
    "\n",
    "        for j in range(i + 1, upper):\n",
    "            r = index[j]\n",
    "            r_next = index[j + 1]\n",
    "\n",
    "            p *= a[r]\n",
    "            delt = p - s(l, r)\n",
    "\n",
    "            left = l - last_l - 1\n",
    "            right = r_next - r - 1\n",
    "\n",
    "            ans += count(left, right, delt)\n",
    "\n",
    "    print(ans)\n"
   ]
  }
 ],
 "metadata": {
  "kernelspec": {
   "display_name": "base",
   "language": "python",
   "name": "python3"
  },
  "language_info": {
   "codemirror_mode": {
    "name": "ipython",
    "version": 3
   },
   "file_extension": ".py",
   "mimetype": "text/x-python",
   "name": "python",
   "nbconvert_exporter": "python",
   "pygments_lexer": "ipython3",
   "version": "3.9.12"
  },
  "orig_nbformat": 4,
  "vscode": {
   "interpreter": {
    "hash": "3a176caed2e623e3a36a87b094ae4f1cc68623d3a88a2d36a2ea84f7c5d7277a"
   }
  }
 },
 "nbformat": 4,
 "nbformat_minor": 2
}
