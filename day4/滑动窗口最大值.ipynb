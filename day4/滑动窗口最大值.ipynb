{
 "cells": [
  {
   "cell_type": "code",
   "execution_count": null,
   "metadata": {},
   "outputs": [],
   "source": [
    "class MonotonicQueue:\n",
    "    from collections import deque\n",
    "\n",
    "    def __init__(self, type, sub=[]):\n",
    "        self.type = type == 'decrease'\n",
    "\n",
    "        self.queue = self.deque()\n",
    "\n",
    "        for i in sub:\n",
    "            self.push(i)\n",
    "\n",
    "    def head(self):\n",
    "        return self.queue[0]\n",
    "\n",
    "    def is_monotonic(self, x):\n",
    "        tail = self.queue[-1]\n",
    "\n",
    "        return tail >= x if self.type else tail <= x\n",
    "\n",
    "    def push(self, x):\n",
    "        while self.queue and not self.is_monotonic(x):\n",
    "            self.queue.pop()\n",
    "\n",
    "        self.queue.append(x)\n",
    "\n",
    "    def pop(self, value):\n",
    "        if self.head() == value:\n",
    "            self.queue.popleft()"
   ]
  },
  {
   "cell_type": "code",
   "execution_count": null,
   "metadata": {},
   "outputs": [],
   "source": [
    "class Solution:\n",
    "    def maxSlidingWindow(self, nums, k):\n",
    "        maxs = []\n",
    "\n",
    "        decrease_queue = MonotonicQueue('decrease', nums[: k])\n",
    "        maxs.append(decrease_queue.head())\n",
    "\n",
    "        for old_left in range(len(nums) - k):\n",
    "            new_right = old_left + k\n",
    "            \n",
    "            old_left = nums[old_left]\n",
    "            new_right = nums[new_right]\n",
    "\n",
    "            decrease_queue.pop(old_left)\n",
    "            decrease_queue.push(new_right)\n",
    "\n",
    "            maxs.append(decrease_queue.head())\n",
    "        \n",
    "        return maxs"
   ]
  }
 ],
 "metadata": {
  "kernelspec": {
   "display_name": "base",
   "language": "python",
   "name": "python3"
  },
  "language_info": {
   "codemirror_mode": {
    "name": "ipython",
    "version": 3
   },
   "file_extension": ".py",
   "mimetype": "text/x-python",
   "name": "python",
   "nbconvert_exporter": "python",
   "pygments_lexer": "ipython3",
   "version": "3.9.12 (main, Apr  4 2022, 05:22:27) [MSC v.1916 64 bit (AMD64)]"
  },
  "orig_nbformat": 4,
  "vscode": {
   "interpreter": {
    "hash": "3a176caed2e623e3a36a87b094ae4f1cc68623d3a88a2d36a2ea84f7c5d7277a"
   }
  }
 },
 "nbformat": 4,
 "nbformat_minor": 2
}
