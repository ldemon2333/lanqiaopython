{
 "cells": [
  {
   "cell_type": "code",
   "execution_count": null,
   "metadata": {},
   "outputs": [],
   "source": [
    "def find_s(graph, s):\n",
    "    tuple1, tuple2 = graph\n",
    "\n",
    "    try:\n",
    "        return 0, tuple1.index(s)\n",
    "    except:\n",
    "        return 1, tuple2.index(s)"
   ]
  },
  {
   "cell_type": "code",
   "execution_count": null,
   "metadata": {},
   "outputs": [],
   "source": [
    "get_line = lambda: tuple(x for x in input())\n",
    "\n",
    "start = get_line(), get_line()\n",
    "\n",
    "A, B = find_s(start, 'B'), find_s(start, 'A')"
   ]
  },
  {
   "cell_type": "code",
   "execution_count": null,
   "metadata": {},
   "outputs": [],
   "source": [
    "from collections import deque\n",
    "\n",
    "q = deque()\n",
    "track = set()\n",
    "\n",
    "def push(graph):\n",
    "    if graph not in track:\n",
    "        track.add(graph)\n",
    "        q.append(graph)"
   ]
  },
  {
   "cell_type": "code",
   "execution_count": null,
   "metadata": {},
   "outputs": [],
   "source": [
    "def around(x, y):\n",
    "    yield x + 1, y\n",
    "    yield x - 1, y\n",
    "    yield x, y + 1\n",
    "    yield x, y - 1"
   ]
  },
  {
   "cell_type": "code",
   "execution_count": null,
   "metadata": {},
   "outputs": [],
   "source": [
    "def swap(matrix, x, y, i, j):\n",
    "    matrix[x][y], matrix[i][j] = matrix[i][j], matrix[x][y]"
   ]
  },
  {
   "cell_type": "code",
   "execution_count": null,
   "metadata": {},
   "outputs": [],
   "source": [
    "def next_graph(graph, x, y):\n",
    "    t1, t2 = graph\n",
    "    matrix = [list(t1), list(t2)]\n",
    "\n",
    "    for i, j in around(graph):\n",
    "        if 0 <= i < 2 and 0 <= j < 3:\n",
    "            swap(matrix, x, y, i, j)\n",
    "\n",
    "            l1, l2 = matrix\n",
    "            yield tuple(l1), tuple(l2)\n",
    "\n",
    "            swap(matrix, x, y, i, j)"
   ]
  },
  {
   "cell_type": "code",
   "execution_count": null,
   "metadata": {},
   "outputs": [],
   "source": [
    "def bfs(graph, step):\n",
    "    push(graph)\n",
    "\n",
    "    while q:\n",
    "        step += 1\n",
    "\n",
    "        for _ in range(len(q)):\n",
    "            graph = q.popleft()\n",
    "\n",
    "            if find_s(graph, 'A') == A and find_s(graph, 'B') == B:\n",
    "                return step\n",
    "\n",
    "            space = find_s(graph, ' ')\n",
    "            for g in next_graph(graph, *space):\n",
    "                push(g)\n",
    "\n",
    "    return -1\n",
    "\n",
    "print(bfs(start, -1))"
   ]
  }
 ],
 "metadata": {
  "kernelspec": {
   "display_name": "base",
   "language": "python",
   "name": "python3"
  },
  "language_info": {
   "codemirror_mode": {
    "name": "ipython",
    "version": 3
   },
   "file_extension": ".py",
   "mimetype": "text/x-python",
   "name": "python",
   "nbconvert_exporter": "python",
   "pygments_lexer": "ipython3",
   "version": "3.9.12"
  },
  "orig_nbformat": 4,
  "vscode": {
   "interpreter": {
    "hash": "3a176caed2e623e3a36a87b094ae4f1cc68623d3a88a2d36a2ea84f7c5d7277a"
   }
  }
 },
 "nbformat": 4,
 "nbformat_minor": 2
}
