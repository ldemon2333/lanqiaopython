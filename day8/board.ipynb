{
 "cells": [
  {
   "cell_type": "code",
   "execution_count": null,
   "metadata": {},
   "outputs": [],
   "source": [
    "class Cache:\n",
    "    def __init__(self):\n",
    "        from sys import setrecursionlimit\n",
    "        from functools import lru_cache\n",
    "\n",
    "        setrecursionlimit(int(1e6))\n",
    "\n",
    "        self.lru_cache = lru_cache\n",
    "\n",
    "    def func(self):\n",
    "        return self.lru_cache(maxsize=None)     # return key is function\n",
    "\n",
    "cache = Cache()"
   ]
  },
  {
   "cell_type": "code",
   "execution_count": null,
   "metadata": {},
   "outputs": [],
   "source": [
    "choices = [int(x) for x in input().split()]"
   ]
  },
  {
   "cell_type": "code",
   "execution_count": null,
   "metadata": {},
   "outputs": [],
   "source": [
    "@cache.func()\n",
    "def best_result(n, first, after):\n",
    "    if n == 0:\n",
    "        if first ^ after:\n",
    "            return '+' if first else '-'\n",
    "        return '0'\n",
    "\n",
    "    best = '-'\n",
    "    for x in choices:\n",
    "        if x <= n:\n",
    "            new_n = n - x\n",
    "            new_first = after\n",
    "            new_after = first ^ (x % 2)\n",
    "\n",
    "            enemy_best = best_result(new_n, new_first, new_after)\n",
    "\n",
    "            if enemy_best == '-':\n",
    "                return '+'\n",
    "            \n",
    "            if enemy_best == '0':\n",
    "                best = '0'\n",
    "\n",
    "    return best"
   ]
  },
  {
   "cell_type": "code",
   "execution_count": null,
   "metadata": {},
   "outputs": [],
   "source": [
    "nums = map(int, input().split())\n",
    "\n",
    "for n in nums:\n",
    "    print(best_result(n, False, False), end = ' ')"
   ]
  },
  {
   "cell_type": "code",
   "execution_count": null,
   "metadata": {},
   "outputs": [],
   "source": [
    "class Cache:\n",
    "    def __init__(self):\n",
    "        from sys import setrecursionlimit\n",
    "        from functools import lru_cache\n",
    "\n",
    "        setrecursionlimit(int(1e6))\n",
    "\n",
    "        self.lru_cache = lru_cache\n",
    "\n",
    "    def func(self):\n",
    "        return self.lru_cache(maxsize=None)     # return key is function\n",
    "\n",
    "cache = Cache()"
   ]
  },
  {
   "cell_type": "code",
   "execution_count": null,
   "metadata": {},
   "outputs": [],
   "source": [
    "win = ['*OL', 'L*L', 'LO*']"
   ]
  },
  {
   "cell_type": "code",
   "execution_count": null,
   "metadata": {},
   "outputs": [],
   "source": [
    "def situations(s):\n",
    "    for i in range(len(s)):\n",
    "        if s[i] == '*':\n",
    "            a = s[: i]\n",
    "            b = s[i + 1:]\n",
    "\n",
    "            yield a + 'L' + b\n",
    "            yield a + 'O' + b"
   ]
  },
  {
   "cell_type": "code",
   "execution_count": null,
   "metadata": {},
   "outputs": [],
   "source": [
    "@cache.func()\n",
    "def best_result(s):\n",
    "    if any(w in s for w in win):\n",
    "        return 1\n",
    "\n",
    "    if s.count('*') == 1:\n",
    "        return 0\n",
    "\n",
    "    best = -1\n",
    "    for si in situations(s):\n",
    "        enemy_best = best_result(si)\n",
    "\n",
    "        if enemy_best == -1:\n",
    "            return 1\n",
    "\n",
    "        if enemy_best == 0:\n",
    "            best = 0\n",
    "\n",
    "    return best\n"
   ]
  },
  {
   "cell_type": "code",
   "execution_count": null,
   "metadata": {},
   "outputs": [],
   "source": [
    "for _ in range(int(input())):\n",
    "    print(best_result(input()))"
   ]
  }
 ],
 "metadata": {
  "kernelspec": {
   "display_name": "base",
   "language": "python",
   "name": "python3"
  },
  "language_info": {
   "codemirror_mode": {
    "name": "ipython",
    "version": 3
   },
   "file_extension": ".py",
   "mimetype": "text/x-python",
   "name": "python",
   "nbconvert_exporter": "python",
   "pygments_lexer": "ipython3",
   "version": "3.9.12"
  },
  "orig_nbformat": 4,
  "vscode": {
   "interpreter": {
    "hash": "3a176caed2e623e3a36a87b094ae4f1cc68623d3a88a2d36a2ea84f7c5d7277a"
   }
  }
 },
 "nbformat": 4,
 "nbformat_minor": 2
}
